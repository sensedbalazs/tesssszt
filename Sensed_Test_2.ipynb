{
  "nbformat": 4,
  "nbformat_minor": 0,
  "metadata": {
    "colab": {
      "provenance": [],
      "authorship_tag": "ABX9TyO8wP+Ukxg6fbDIKdLgmFot",
      "include_colab_link": true
    },
    "kernelspec": {
      "name": "python3",
      "display_name": "Python 3"
    },
    "language_info": {
      "name": "python"
    }
  },
  "cells": [
    {
      "cell_type": "markdown",
      "metadata": {
        "id": "view-in-github",
        "colab_type": "text"
      },
      "source": [
        "<a href=\"https://colab.research.google.com/github/sensedbalazs/tesssszt/blob/main/Sensed_Test_2.ipynb\" target=\"_parent\"><img src=\"https://colab.research.google.com/assets/colab-badge.svg\" alt=\"Open In Colab\"/></a>"
      ]
    },
    {
      "cell_type": "code",
      "execution_count": null,
      "metadata": {
        "id": "cX3eid-R6Hfm"
      },
      "outputs": [],
      "source": []
    },
    {
      "cell_type": "markdown",
      "source": [
        "# My First Headline of a Section"
      ],
      "metadata": {
        "id": "vGXMO9Bb9OJ_"
      }
    },
    {
      "cell_type": "markdown",
      "source": [
        "This is my first Sensed Notebook"
      ],
      "metadata": {
        "id": "QabKOGJ36l8C"
      }
    },
    {
      "cell_type": "markdown",
      "source": [
        "Very exciting"
      ],
      "metadata": {
        "id": "pe_-btzr6qQd"
      }
    },
    {
      "cell_type": "code",
      "source": [
        "eredmeny=12+34\n",
        "eredmeny"
      ],
      "metadata": {
        "colab": {
          "base_uri": "https://localhost:8080/"
        },
        "id": "z5NHq1rn6tCN",
        "outputId": "7fc1e6e2-e8e5-4b49-ed63-c24f5e74d851"
      },
      "execution_count": null,
      "outputs": [
        {
          "output_type": "execute_result",
          "data": {
            "text/plain": [
              "46"
            ]
          },
          "metadata": {},
          "execution_count": 3
        }
      ]
    },
    {
      "cell_type": "markdown",
      "source": [
        "Ez volt az első programom."
      ],
      "metadata": {
        "id": "HxRXK_Q97Kas"
      }
    },
    {
      "cell_type": "code",
      "source": [
        "Balazslista=[1,32,3,34,5,2323,7,8]\n",
        "print (Balazslista[3])\n",
        "print (Balazslista[6])"
      ],
      "metadata": {
        "colab": {
          "base_uri": "https://localhost:8080/"
        },
        "id": "LlE7jqKl7QbC",
        "outputId": "8e3aeed1-8bac-49dc-f606-0f5bd5664999"
      },
      "execution_count": null,
      "outputs": [
        {
          "output_type": "stream",
          "name": "stdout",
          "text": [
            "34\n",
            "7\n"
          ]
        }
      ]
    }
  ]
}